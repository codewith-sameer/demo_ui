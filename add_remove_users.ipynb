{
 "cells": [
  {
   "cell_type": "code",
   "execution_count": 1,
   "metadata": {},
   "outputs": [
    {
     "ename": "RuntimeError",
     "evalue": "A 'SQLAlchemy' instance has already been registered on this Flask app. Import and use that instance instead.",
     "output_type": "error",
     "traceback": [
      "\u001b[1;31m---------------------------------------------------------------------------\u001b[0m",
      "\u001b[1;31mRuntimeError\u001b[0m                              Traceback (most recent call last)",
      "Cell \u001b[1;32mIn[1], line 1\u001b[0m\n\u001b[1;32m----> 1\u001b[0m \u001b[38;5;28;01mfrom\u001b[39;00m \u001b[38;5;21;01musers_mgt\u001b[39;00m \u001b[38;5;28;01mimport\u001b[39;00m db, User\n\u001b[0;32m      4\u001b[0m \u001b[38;5;28;01mdef\u001b[39;00m \u001b[38;5;21madd_user\u001b[39m(username, password):\n\u001b[0;32m      5\u001b[0m     new_user \u001b[38;5;241m=\u001b[39m User(username\u001b[38;5;241m=\u001b[39musername)\n",
      "File \u001b[1;32m~\\My_space\\UI\\users_mgt.py:6\u001b[0m\n\u001b[0;32m      2\u001b[0m \u001b[38;5;28;01mfrom\u001b[39;00m \u001b[38;5;21;01mwerkzeug\u001b[39;00m\u001b[38;5;21;01m.\u001b[39;00m\u001b[38;5;21;01msecurity\u001b[39;00m \u001b[38;5;28;01mimport\u001b[39;00m check_password_hash, generate_password_hash\n\u001b[0;32m      4\u001b[0m \u001b[38;5;28;01mfrom\u001b[39;00m \u001b[38;5;21;01mapp\u001b[39;00m \u001b[38;5;28;01mimport\u001b[39;00m app\n\u001b[1;32m----> 6\u001b[0m db \u001b[38;5;241m=\u001b[39m \u001b[43mSQLAlchemy\u001b[49m\u001b[43m(\u001b[49m\u001b[43mapp\u001b[49m\u001b[43m)\u001b[49m\n\u001b[0;32m      9\u001b[0m \u001b[38;5;28;01mclass\u001b[39;00m \u001b[38;5;21;01mUser\u001b[39;00m(db\u001b[38;5;241m.\u001b[39mModel):\n\u001b[0;32m     10\u001b[0m     \u001b[38;5;28mid\u001b[39m \u001b[38;5;241m=\u001b[39m db\u001b[38;5;241m.\u001b[39mColumn(db\u001b[38;5;241m.\u001b[39mInteger, primary_key\u001b[38;5;241m=\u001b[39m\u001b[38;5;28;01mTrue\u001b[39;00m)\n",
      "File \u001b[1;32m~\\anaconda3\\envs\\sameer_env\\lib\\site-packages\\flask_sqlalchemy\\extension.py:278\u001b[0m, in \u001b[0;36mSQLAlchemy.__init__\u001b[1;34m(self, app, metadata, session_options, query_class, model_class, engine_options, add_models_to_shell, disable_autonaming)\u001b[0m\n\u001b[0;32m    275\u001b[0m \u001b[38;5;28mself\u001b[39m\u001b[38;5;241m.\u001b[39m_add_models_to_shell \u001b[38;5;241m=\u001b[39m add_models_to_shell\n\u001b[0;32m    277\u001b[0m \u001b[38;5;28;01mif\u001b[39;00m app \u001b[38;5;129;01mis\u001b[39;00m \u001b[38;5;129;01mnot\u001b[39;00m \u001b[38;5;28;01mNone\u001b[39;00m:\n\u001b[1;32m--> 278\u001b[0m     \u001b[38;5;28;43mself\u001b[39;49m\u001b[38;5;241;43m.\u001b[39;49m\u001b[43minit_app\u001b[49m\u001b[43m(\u001b[49m\u001b[43mapp\u001b[49m\u001b[43m)\u001b[49m\n",
      "File \u001b[1;32m~\\anaconda3\\envs\\sameer_env\\lib\\site-packages\\flask_sqlalchemy\\extension.py:312\u001b[0m, in \u001b[0;36mSQLAlchemy.init_app\u001b[1;34m(self, app)\u001b[0m\n\u001b[0;32m    292\u001b[0m \u001b[38;5;250m\u001b[39m\u001b[38;5;124;03m\"\"\"Initialize a Flask application for use with this extension instance. This\u001b[39;00m\n\u001b[0;32m    293\u001b[0m \u001b[38;5;124;03mmust be called before accessing the database engine or session with the app.\u001b[39;00m\n\u001b[0;32m    294\u001b[0m \n\u001b[1;32m   (...)\u001b[0m\n\u001b[0;32m    309\u001b[0m \u001b[38;5;124;03m:param app: The Flask application to initialize.\u001b[39;00m\n\u001b[0;32m    310\u001b[0m \u001b[38;5;124;03m\"\"\"\u001b[39;00m\n\u001b[0;32m    311\u001b[0m \u001b[38;5;28;01mif\u001b[39;00m \u001b[38;5;124m\"\u001b[39m\u001b[38;5;124msqlalchemy\u001b[39m\u001b[38;5;124m\"\u001b[39m \u001b[38;5;129;01min\u001b[39;00m app\u001b[38;5;241m.\u001b[39mextensions:\n\u001b[1;32m--> 312\u001b[0m     \u001b[38;5;28;01mraise\u001b[39;00m \u001b[38;5;167;01mRuntimeError\u001b[39;00m(\n\u001b[0;32m    313\u001b[0m         \u001b[38;5;124m\"\u001b[39m\u001b[38;5;124mA \u001b[39m\u001b[38;5;124m'\u001b[39m\u001b[38;5;124mSQLAlchemy\u001b[39m\u001b[38;5;124m'\u001b[39m\u001b[38;5;124m instance has already been registered on this Flask app.\u001b[39m\u001b[38;5;124m\"\u001b[39m\n\u001b[0;32m    314\u001b[0m         \u001b[38;5;124m\"\u001b[39m\u001b[38;5;124m Import and use that instance instead.\u001b[39m\u001b[38;5;124m\"\u001b[39m\n\u001b[0;32m    315\u001b[0m     )\n\u001b[0;32m    317\u001b[0m app\u001b[38;5;241m.\u001b[39mextensions[\u001b[38;5;124m\"\u001b[39m\u001b[38;5;124msqlalchemy\u001b[39m\u001b[38;5;124m\"\u001b[39m] \u001b[38;5;241m=\u001b[39m \u001b[38;5;28mself\u001b[39m\n\u001b[0;32m    318\u001b[0m app\u001b[38;5;241m.\u001b[39mteardown_appcontext(\u001b[38;5;28mself\u001b[39m\u001b[38;5;241m.\u001b[39m_teardown_session)\n",
      "\u001b[1;31mRuntimeError\u001b[0m: A 'SQLAlchemy' instance has already been registered on this Flask app. Import and use that instance instead."
     ]
    }
   ],
   "source": [
    "from users_mgt import db, User\n",
    "\n",
    "\n",
    "def add_user(username, password):\n",
    "    new_user = User(username=username)\n",
    "    new_user.set_password(password)\n",
    "    db.session.add(new_user)\n",
    "    db.session.commit()\n",
    "\n",
    "\n",
    "def remove_user(username):\n",
    "    user = User.query.filter_by(username=username).first()\n",
    "    if user:\n",
    "        db.session.delete(user)\n",
    "        db.session.commit()"
   ]
  },
  {
   "cell_type": "code",
   "execution_count": null,
   "metadata": {},
   "outputs": [],
   "source": []
  }
 ],
 "metadata": {
  "kernelspec": {
   "display_name": "Python 3 (ipykernel)",
   "language": "python",
   "name": "python3"
  },
  "language_info": {
   "codemirror_mode": {
    "name": "ipython",
    "version": 3
   },
   "file_extension": ".py",
   "mimetype": "text/x-python",
   "name": "python",
   "nbconvert_exporter": "python",
   "pygments_lexer": "ipython3",
   "version": "3.10.11"
  }
 },
 "nbformat": 4,
 "nbformat_minor": 2
}
